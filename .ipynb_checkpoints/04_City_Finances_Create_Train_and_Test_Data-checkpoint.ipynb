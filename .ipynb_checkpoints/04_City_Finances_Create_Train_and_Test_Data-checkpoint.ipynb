{
 "cells": [
  {
   "cell_type": "markdown",
   "metadata": {},
   "source": [
    "<a class=\"anchor\" id=\"top-of-doc\"></a>\n",
    "## Table Of Contents: \n",
    "* [Prep](#prep)\n",
    "* [Section 1: Create a training and test dataset](#section1)"
   ]
  },
  {
   "cell_type": "markdown",
   "metadata": {},
   "source": [
    "<div class=\"span5 alert alert-info\">\n",
    "<B>  Prep: </B> <a class=\"anchor\" id=\"prep\"></a>   \n",
    "</div>"
   ]
  },
  {
   "cell_type": "markdown",
   "metadata": {},
   "source": [
    "<div class=\"span5 alert alert-success\">\n",
    "<I> About prep: </I> This is preparation for applying clustering algorithms to the cities that (1) have gone bankrupt or close to bankrupt, (2) cities with a large deficit each year, (3) cities with a large surplus each year.\n",
    "</div>"
   ]
  },
  {
   "cell_type": "code",
   "execution_count": 11,
   "metadata": {},
   "outputs": [
    {
     "name": "stdout",
     "output_type": "stream",
     "text": [
      "C:\\Users\\user\\Documents\\00_Applications_DataScience\\00_After_Springboard\\City_Finances\\Data\n"
     ]
    }
   ],
   "source": [
    "#Directory path\n",
    "%cd C:\\Users\\user\\Documents\\00_Applications_DataScience\\00_After_Springboard\\City_Finances\\Data"
   ]
  },
  {
   "cell_type": "code",
   "execution_count": 12,
   "metadata": {},
   "outputs": [],
   "source": [
    "#Imports\n",
    "import pandas as pd\n",
    "import matplotlib.pyplot as plt\n",
    "import numpy as np"
   ]
  },
  {
   "cell_type": "code",
   "execution_count": 13,
   "metadata": {},
   "outputs": [],
   "source": [
    "import warnings\n",
    "warnings.filterwarnings('ignore')"
   ]
  },
  {
   "cell_type": "code",
   "execution_count": 14,
   "metadata": {},
   "outputs": [],
   "source": [
    "#Set option\n",
    "pd.set_option('display.max_columns', None)\n",
    "pd.set_option('display.max_rows', None)"
   ]
  },
  {
   "cell_type": "code",
   "execution_count": 15,
   "metadata": {},
   "outputs": [
    {
     "data": {
      "text/html": [
       "<div>\n",
       "<style scoped>\n",
       "    .dataframe tbody tr th:only-of-type {\n",
       "        vertical-align: middle;\n",
       "    }\n",
       "\n",
       "    .dataframe tbody tr th {\n",
       "        vertical-align: top;\n",
       "    }\n",
       "\n",
       "    .dataframe thead th {\n",
       "        text-align: right;\n",
       "    }\n",
       "</style>\n",
       "<table border=\"1\" class=\"dataframe\">\n",
       "  <thead>\n",
       "    <tr style=\"text-align: right;\">\n",
       "      <th></th>\n",
       "      <th>city_state</th>\n",
       "      <th>grand_total_rev</th>\n",
       "      <th>grand_total_spending</th>\n",
       "      <th>rev_minus_spend</th>\n",
       "      <th>rem_bal_2002</th>\n",
       "      <th>rem_bal_2003</th>\n",
       "      <th>rem_bal_2004</th>\n",
       "      <th>rem_bal_2005</th>\n",
       "      <th>rem_bal_2006</th>\n",
       "      <th>rem_bal_2007</th>\n",
       "      <th>rem_bal_2008</th>\n",
       "      <th>rem_bal_2009</th>\n",
       "      <th>rem_bal_2010</th>\n",
       "      <th>rem_bal_2011</th>\n",
       "      <th>rem_bal_2012</th>\n",
       "      <th>rem_bal_2013</th>\n",
       "      <th>rem_bal_2014</th>\n",
       "      <th>rem_bal_2015</th>\n",
       "      <th>rem_bal_2016</th>\n",
       "      <th>2003_percent_change</th>\n",
       "      <th>2004_percent_change</th>\n",
       "      <th>2005_percent_change</th>\n",
       "      <th>2006_percent_change</th>\n",
       "      <th>2007_percent_change</th>\n",
       "      <th>2008_percent_change</th>\n",
       "      <th>2009_percent_change</th>\n",
       "      <th>2010_percent_change</th>\n",
       "      <th>2011_percent_change</th>\n",
       "      <th>2012_percent_change</th>\n",
       "      <th>2013_percent_change</th>\n",
       "      <th>2014_percent_change</th>\n",
       "      <th>2015_percent_change</th>\n",
       "      <th>2016_percent_change</th>\n",
       "      <th>outlier</th>\n",
       "      <th>money_mgmt</th>\n",
       "    </tr>\n",
       "  </thead>\n",
       "  <tbody>\n",
       "    <tr>\n",
       "      <th>0</th>\n",
       "      <td>Akron_OH</td>\n",
       "      <td>81575.40</td>\n",
       "      <td>87166.39</td>\n",
       "      <td>-5590.99</td>\n",
       "      <td>-168.52</td>\n",
       "      <td>-112.27</td>\n",
       "      <td>-111.69</td>\n",
       "      <td>-162.80</td>\n",
       "      <td>-184.82</td>\n",
       "      <td>-400.78</td>\n",
       "      <td>-162.37</td>\n",
       "      <td>-1225.73</td>\n",
       "      <td>-714.19</td>\n",
       "      <td>-889.40</td>\n",
       "      <td>-38.21</td>\n",
       "      <td>-226.72</td>\n",
       "      <td>-75.78</td>\n",
       "      <td>-728.78</td>\n",
       "      <td>-388.93</td>\n",
       "      <td>-0.333788</td>\n",
       "      <td>-0.005166</td>\n",
       "      <td>0.457606</td>\n",
       "      <td>0.135258</td>\n",
       "      <td>1.168488</td>\n",
       "      <td>-0.594865</td>\n",
       "      <td>6.548993</td>\n",
       "      <td>-0.417335</td>\n",
       "      <td>0.245327</td>\n",
       "      <td>-0.957038</td>\n",
       "      <td>4.933525</td>\n",
       "      <td>-0.665755</td>\n",
       "      <td>8.617049</td>\n",
       "      <td>-0.466327</td>\n",
       "      <td>0.0</td>\n",
       "      <td>2</td>\n",
       "    </tr>\n",
       "    <tr>\n",
       "      <th>1</th>\n",
       "      <td>Albuquerque_NM</td>\n",
       "      <td>61990.31</td>\n",
       "      <td>60122.36</td>\n",
       "      <td>1867.95</td>\n",
       "      <td>51.09</td>\n",
       "      <td>44.95</td>\n",
       "      <td>237.53</td>\n",
       "      <td>177.48</td>\n",
       "      <td>752.65</td>\n",
       "      <td>224.15</td>\n",
       "      <td>249.50</td>\n",
       "      <td>-95.31</td>\n",
       "      <td>-88.79</td>\n",
       "      <td>-71.18</td>\n",
       "      <td>84.84</td>\n",
       "      <td>7.36</td>\n",
       "      <td>110.42</td>\n",
       "      <td>5.44</td>\n",
       "      <td>177.82</td>\n",
       "      <td>-0.120180</td>\n",
       "      <td>4.284316</td>\n",
       "      <td>-0.252810</td>\n",
       "      <td>3.240760</td>\n",
       "      <td>-0.702186</td>\n",
       "      <td>0.113094</td>\n",
       "      <td>-1.382004</td>\n",
       "      <td>-0.068408</td>\n",
       "      <td>-0.198333</td>\n",
       "      <td>-2.191908</td>\n",
       "      <td>-0.913248</td>\n",
       "      <td>14.002717</td>\n",
       "      <td>-0.950734</td>\n",
       "      <td>31.687500</td>\n",
       "      <td>0.0</td>\n",
       "      <td>3</td>\n",
       "    </tr>\n",
       "  </tbody>\n",
       "</table>\n",
       "</div>"
      ],
      "text/plain": [
       "       city_state  grand_total_rev  grand_total_spending  rev_minus_spend  \\\n",
       "0        Akron_OH         81575.40              87166.39         -5590.99   \n",
       "1  Albuquerque_NM         61990.31              60122.36          1867.95   \n",
       "\n",
       "   rem_bal_2002  rem_bal_2003  rem_bal_2004  rem_bal_2005  rem_bal_2006  \\\n",
       "0       -168.52       -112.27       -111.69       -162.80       -184.82   \n",
       "1         51.09         44.95        237.53        177.48        752.65   \n",
       "\n",
       "   rem_bal_2007  rem_bal_2008  rem_bal_2009  rem_bal_2010  rem_bal_2011  \\\n",
       "0       -400.78       -162.37      -1225.73       -714.19       -889.40   \n",
       "1        224.15        249.50        -95.31        -88.79        -71.18   \n",
       "\n",
       "   rem_bal_2012  rem_bal_2013  rem_bal_2014  rem_bal_2015  rem_bal_2016  \\\n",
       "0        -38.21       -226.72        -75.78       -728.78       -388.93   \n",
       "1         84.84          7.36        110.42          5.44        177.82   \n",
       "\n",
       "   2003_percent_change  2004_percent_change  2005_percent_change  \\\n",
       "0            -0.333788            -0.005166             0.457606   \n",
       "1            -0.120180             4.284316            -0.252810   \n",
       "\n",
       "   2006_percent_change  2007_percent_change  2008_percent_change  \\\n",
       "0             0.135258             1.168488            -0.594865   \n",
       "1             3.240760            -0.702186             0.113094   \n",
       "\n",
       "   2009_percent_change  2010_percent_change  2011_percent_change  \\\n",
       "0             6.548993            -0.417335             0.245327   \n",
       "1            -1.382004            -0.068408            -0.198333   \n",
       "\n",
       "   2012_percent_change  2013_percent_change  2014_percent_change  \\\n",
       "0            -0.957038             4.933525            -0.665755   \n",
       "1            -2.191908            -0.913248            14.002717   \n",
       "\n",
       "   2015_percent_change  2016_percent_change  outlier  money_mgmt  \n",
       "0             8.617049            -0.466327      0.0           2  \n",
       "1            -0.950734            31.687500      0.0           3  "
      ]
     },
     "execution_count": 15,
     "metadata": {},
     "output_type": "execute_result"
    }
   ],
   "source": [
    "#Import the dataset\n",
    "data_in = pd.read_csv('03_cities_summary.csv')\n",
    "\n",
    "data_in.head(2)"
   ]
  },
  {
   "cell_type": "code",
   "execution_count": 16,
   "metadata": {},
   "outputs": [
    {
     "name": "stdout",
     "output_type": "stream",
     "text": [
      "bankrupt count is: 5\n",
      "deficit count is: 109\n",
      "surplus count is: 38\n"
     ]
    }
   ],
   "source": [
    "#Count the money management categories to identify how to best split into training and test data \n",
    "bankrupt_count = data_in.city_state.loc[data_in.money_mgmt == 1].count()\n",
    "deficit_count = data_in.city_state.loc[data_in.money_mgmt == 2].count()\n",
    "surplus_count = data_in.city_state.loc[data_in.money_mgmt == 3].count()\n",
    "\n",
    "print(f'bankrupt count is: {bankrupt_count}')\n",
    "print(f'deficit count is: {deficit_count}')\n",
    "print(f'surplus count is: {surplus_count}')"
   ]
  },
  {
   "cell_type": "code",
   "execution_count": 17,
   "metadata": {},
   "outputs": [],
   "source": [
    "#Create train and test dataframes by placing two thirds of each category in training and the remaining third as test. \n",
    "\n",
    "#Create a train list and a test list\n",
    "cat1_count = 0\n",
    "cat2_count = 0\n",
    "cat3_count = 0\n",
    "\n",
    "train_list = []\n",
    "test_list = []\n",
    "\n",
    "\n",
    "for r in data_in.values:\n",
    "    #bankrupt\n",
    "    if r[-1] == 1 and cat1_count < 3:\n",
    "        train_list.append(r[0])\n",
    "        cat1_count += 1\n",
    "    \n",
    "    elif r[-1] == 1 and cat1_count >= 3:\n",
    "        test_list.append(r[0])\n",
    "    \n",
    "    #deficit\n",
    "    elif r[-1] == 2 and cat2_count < 55:\n",
    "        train_list.append(r[0])\n",
    "        cat2_count += 1\n",
    "    \n",
    "    elif r[-1] == 2 and cat2_count >= 55:\n",
    "        test_list.append(r[0])\n",
    "        \n",
    "    #surplus\n",
    "    elif r[-1] == 3 and cat3_count < 20:\n",
    "        train_list.append(r[0])\n",
    "        cat3_count += 1\n",
    "    \n",
    "    elif r[-1] == 3 and cat3_count >= 20:\n",
    "        test_list.append(r[0])"
   ]
  },
  {
   "cell_type": "code",
   "execution_count": 18,
   "metadata": {},
   "outputs": [],
   "source": [
    "df_train = data_in.loc[data_in.city_state.isin(train_list)]\n",
    "\n",
    "out_csv = '04_cities_training_data.csv'\n",
    "df_train.to_csv(out_csv, index = None)"
   ]
  },
  {
   "cell_type": "code",
   "execution_count": 19,
   "metadata": {},
   "outputs": [],
   "source": [
    "df_test = data_in.loc[data_in.city_state.isin(test_list)]\n",
    "\n",
    "out_csv = '05_cities_test_data.csv'\n",
    "df_test.to_csv(out_csv, index = None)"
   ]
  }
 ],
 "metadata": {
  "kernelspec": {
   "display_name": "Python 3",
   "language": "python",
   "name": "python3"
  },
  "language_info": {
   "codemirror_mode": {
    "name": "ipython",
    "version": 3
   },
   "file_extension": ".py",
   "mimetype": "text/x-python",
   "name": "python",
   "nbconvert_exporter": "python",
   "pygments_lexer": "ipython3",
   "version": "3.7.3"
  }
 },
 "nbformat": 4,
 "nbformat_minor": 2
}
