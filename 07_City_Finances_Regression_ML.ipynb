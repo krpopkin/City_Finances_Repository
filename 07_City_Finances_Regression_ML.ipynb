{
 "cells": [
  {
   "cell_type": "markdown",
   "metadata": {},
   "source": [
    "<a class=\"anchor\" id=\"top-of-doc\"></a>\n",
    "## Table Of Contents: \n",
    "* [Prep](#prep)\n",
    "* [Section 1: Logistic Regression](#section1)"
   ]
  },
  {
   "cell_type": "markdown",
   "metadata": {},
   "source": [
    "<div class=\"span5 alert alert-info\">\n",
    "<B>  Prep: </B> <a class=\"anchor\" id=\"prep\"></a>   \n",
    "</div>"
   ]
  },
  {
   "cell_type": "markdown",
   "metadata": {},
   "source": [
    "<div class=\"span5 alert alert-success\">\n",
    "<I> About prep: </I> This is preparation for machine learning\n",
    "</div>"
   ]
  },
  {
   "cell_type": "code",
   "execution_count": 1,
   "metadata": {},
   "outputs": [
    {
     "name": "stdout",
     "output_type": "stream",
     "text": [
      "C:\\Users\\user\\Documents\\00_Applications_DataScience\\00_After_Springboard\\City_Finances\\Data\n"
     ]
    }
   ],
   "source": [
    "#Directory path\n",
    "%cd C:\\Users\\user\\Documents\\00_Applications_DataScience\\00_After_Springboard\\City_Finances\\Data"
   ]
  },
  {
   "cell_type": "code",
   "execution_count": 2,
   "metadata": {},
   "outputs": [],
   "source": [
    "#Imports\n",
    "import pandas as pd\n",
    "import matplotlib.pyplot as plt\n",
    "import numpy as np\n",
    "\n",
    "from sklearn.model_selection import train_test_split\n",
    "\n",
    "from sklearn.linear_model import LogisticRegression \n",
    "\n",
    "from sklearn.metrics import confusion_matrix\n",
    "from sklearn.metrics import classification_report\n",
    "from sklearn.metrics import accuracy_score"
   ]
  },
  {
   "cell_type": "code",
   "execution_count": 3,
   "metadata": {},
   "outputs": [],
   "source": [
    "import warnings\n",
    "warnings.filterwarnings('ignore')"
   ]
  },
  {
   "cell_type": "code",
   "execution_count": 4,
   "metadata": {},
   "outputs": [],
   "source": [
    "#Set option\n",
    "pd.set_option('display.max_columns', None)\n",
    "pd.set_option('display.max_rows', None)"
   ]
  },
  {
   "cell_type": "code",
   "execution_count": 5,
   "metadata": {},
   "outputs": [
    {
     "data": {
      "text/html": [
       "<div>\n",
       "<style scoped>\n",
       "    .dataframe tbody tr th:only-of-type {\n",
       "        vertical-align: middle;\n",
       "    }\n",
       "\n",
       "    .dataframe tbody tr th {\n",
       "        vertical-align: top;\n",
       "    }\n",
       "\n",
       "    .dataframe thead th {\n",
       "        text-align: right;\n",
       "    }\n",
       "</style>\n",
       "<table border=\"1\" class=\"dataframe\">\n",
       "  <thead>\n",
       "    <tr style=\"text-align: right;\">\n",
       "      <th></th>\n",
       "      <th>city_state</th>\n",
       "      <th>grand_total_rev</th>\n",
       "      <th>grand_total_spending</th>\n",
       "      <th>rev_minus_spend</th>\n",
       "      <th>rem_bal_2002</th>\n",
       "      <th>rem_bal_2003</th>\n",
       "      <th>rem_bal_2004</th>\n",
       "      <th>rem_bal_2005</th>\n",
       "      <th>rem_bal_2006</th>\n",
       "      <th>rem_bal_2007</th>\n",
       "      <th>rem_bal_2008</th>\n",
       "      <th>rem_bal_2009</th>\n",
       "      <th>rem_bal_2010</th>\n",
       "      <th>rem_bal_2011</th>\n",
       "      <th>rem_bal_2012</th>\n",
       "      <th>rem_bal_2013</th>\n",
       "      <th>rem_bal_2014</th>\n",
       "      <th>rem_bal_2015</th>\n",
       "      <th>rem_bal_2016</th>\n",
       "      <th>2003_percent_change</th>\n",
       "      <th>2004_percent_change</th>\n",
       "      <th>2005_percent_change</th>\n",
       "      <th>2006_percent_change</th>\n",
       "      <th>2007_percent_change</th>\n",
       "      <th>2008_percent_change</th>\n",
       "      <th>2009_percent_change</th>\n",
       "      <th>2010_percent_change</th>\n",
       "      <th>2011_percent_change</th>\n",
       "      <th>2012_percent_change</th>\n",
       "      <th>2013_percent_change</th>\n",
       "      <th>2014_percent_change</th>\n",
       "      <th>2015_percent_change</th>\n",
       "      <th>2016_percent_change</th>\n",
       "      <th>outlier</th>\n",
       "      <th>money_mgmt</th>\n",
       "    </tr>\n",
       "  </thead>\n",
       "  <tbody>\n",
       "    <tr>\n",
       "      <th>0</th>\n",
       "      <td>Akron_OH</td>\n",
       "      <td>81575.40</td>\n",
       "      <td>87166.39</td>\n",
       "      <td>-5590.99</td>\n",
       "      <td>-168.52</td>\n",
       "      <td>-112.27</td>\n",
       "      <td>-111.69</td>\n",
       "      <td>-162.80</td>\n",
       "      <td>-184.82</td>\n",
       "      <td>-400.78</td>\n",
       "      <td>-162.37</td>\n",
       "      <td>-1225.73</td>\n",
       "      <td>-714.19</td>\n",
       "      <td>-889.40</td>\n",
       "      <td>-38.21</td>\n",
       "      <td>-226.72</td>\n",
       "      <td>-75.78</td>\n",
       "      <td>-728.78</td>\n",
       "      <td>-388.93</td>\n",
       "      <td>-0.333788</td>\n",
       "      <td>-0.005166</td>\n",
       "      <td>0.457606</td>\n",
       "      <td>0.135258</td>\n",
       "      <td>1.168488</td>\n",
       "      <td>-0.594865</td>\n",
       "      <td>6.548993</td>\n",
       "      <td>-0.417335</td>\n",
       "      <td>0.245327</td>\n",
       "      <td>-0.957038</td>\n",
       "      <td>4.933525</td>\n",
       "      <td>-0.665755</td>\n",
       "      <td>8.617049</td>\n",
       "      <td>-0.466327</td>\n",
       "      <td>0.0</td>\n",
       "      <td>2</td>\n",
       "    </tr>\n",
       "    <tr>\n",
       "      <th>1</th>\n",
       "      <td>Albuquerque_NM</td>\n",
       "      <td>61990.31</td>\n",
       "      <td>60122.36</td>\n",
       "      <td>1867.95</td>\n",
       "      <td>51.09</td>\n",
       "      <td>44.95</td>\n",
       "      <td>237.53</td>\n",
       "      <td>177.48</td>\n",
       "      <td>752.65</td>\n",
       "      <td>224.15</td>\n",
       "      <td>249.50</td>\n",
       "      <td>-95.31</td>\n",
       "      <td>-88.79</td>\n",
       "      <td>-71.18</td>\n",
       "      <td>84.84</td>\n",
       "      <td>7.36</td>\n",
       "      <td>110.42</td>\n",
       "      <td>5.44</td>\n",
       "      <td>177.82</td>\n",
       "      <td>-0.120180</td>\n",
       "      <td>4.284316</td>\n",
       "      <td>-0.252810</td>\n",
       "      <td>3.240760</td>\n",
       "      <td>-0.702186</td>\n",
       "      <td>0.113094</td>\n",
       "      <td>-1.382004</td>\n",
       "      <td>-0.068408</td>\n",
       "      <td>-0.198333</td>\n",
       "      <td>-2.191908</td>\n",
       "      <td>-0.913248</td>\n",
       "      <td>14.002717</td>\n",
       "      <td>-0.950734</td>\n",
       "      <td>31.687500</td>\n",
       "      <td>0.0</td>\n",
       "      <td>3</td>\n",
       "    </tr>\n",
       "  </tbody>\n",
       "</table>\n",
       "</div>"
      ],
      "text/plain": [
       "       city_state  grand_total_rev  grand_total_spending  rev_minus_spend  \\\n",
       "0        Akron_OH         81575.40              87166.39         -5590.99   \n",
       "1  Albuquerque_NM         61990.31              60122.36          1867.95   \n",
       "\n",
       "   rem_bal_2002  rem_bal_2003  rem_bal_2004  rem_bal_2005  rem_bal_2006  \\\n",
       "0       -168.52       -112.27       -111.69       -162.80       -184.82   \n",
       "1         51.09         44.95        237.53        177.48        752.65   \n",
       "\n",
       "   rem_bal_2007  rem_bal_2008  rem_bal_2009  rem_bal_2010  rem_bal_2011  \\\n",
       "0       -400.78       -162.37      -1225.73       -714.19       -889.40   \n",
       "1        224.15        249.50        -95.31        -88.79        -71.18   \n",
       "\n",
       "   rem_bal_2012  rem_bal_2013  rem_bal_2014  rem_bal_2015  rem_bal_2016  \\\n",
       "0        -38.21       -226.72        -75.78       -728.78       -388.93   \n",
       "1         84.84          7.36        110.42          5.44        177.82   \n",
       "\n",
       "   2003_percent_change  2004_percent_change  2005_percent_change  \\\n",
       "0            -0.333788            -0.005166             0.457606   \n",
       "1            -0.120180             4.284316            -0.252810   \n",
       "\n",
       "   2006_percent_change  2007_percent_change  2008_percent_change  \\\n",
       "0             0.135258             1.168488            -0.594865   \n",
       "1             3.240760            -0.702186             0.113094   \n",
       "\n",
       "   2009_percent_change  2010_percent_change  2011_percent_change  \\\n",
       "0             6.548993            -0.417335             0.245327   \n",
       "1            -1.382004            -0.068408            -0.198333   \n",
       "\n",
       "   2012_percent_change  2013_percent_change  2014_percent_change  \\\n",
       "0            -0.957038             4.933525            -0.665755   \n",
       "1            -2.191908            -0.913248            14.002717   \n",
       "\n",
       "   2015_percent_change  2016_percent_change  outlier  money_mgmt  \n",
       "0             8.617049            -0.466327      0.0           2  \n",
       "1            -0.950734            31.687500      0.0           3  "
      ]
     },
     "execution_count": 5,
     "metadata": {},
     "output_type": "execute_result"
    }
   ],
   "source": [
    "#Import the dataset\n",
    "data_in = pd.read_csv('04_cities_training_data.csv')\n",
    "#data_in = pd.read_csv('03_cities_summary.csv')\n",
    "\n",
    "data_in.head(2)"
   ]
  },
  {
   "cell_type": "code",
   "execution_count": 6,
   "metadata": {},
   "outputs": [],
   "source": [
    "#Create train and test data\n",
    "df_train_in = data_in.iloc[:,19:35]\n",
    "\n",
    "array = df_train_in.values\n",
    "X = array[:,0:15]\n",
    "Y = array[:,15]"
   ]
  },
  {
   "cell_type": "code",
   "execution_count": 7,
   "metadata": {},
   "outputs": [],
   "source": [
    "#Create a training and test dataset\n",
    "test_size = 0.33\n",
    "seed = 7\n",
    "X_train, X_test, Y_train, Y_test = train_test_split(X, Y, test_size = test_size, random_state = seed) "
   ]
  },
  {
   "cell_type": "markdown",
   "metadata": {},
   "source": [
    "<div class=\"span5 alert alert-info\">\n",
    "<B>  Section 1: Logistic Regression </B> <a class=\"anchor\" id=\"section1\"></a> \n",
    " \n",
    "</div>"
   ]
  },
  {
   "cell_type": "markdown",
   "metadata": {},
   "source": [
    "<div class=\"span5 alert alert-success\">\n",
    "<I> Complete Logistic Regression using the percent change data</I>\n",
    "</div>"
   ]
  },
  {
   "cell_type": "code",
   "execution_count": 8,
   "metadata": {},
   "outputs": [
    {
     "data": {
      "text/plain": [
       "LogisticRegression(C=1.0, class_weight=None, dual=False, fit_intercept=True,\n",
       "          intercept_scaling=1, max_iter=100, multi_class='multinomial',\n",
       "          n_jobs=None, penalty='l2', random_state=None, solver='newton-cg',\n",
       "          tol=0.0001, verbose=0, warm_start=False)"
      ]
     },
     "execution_count": 8,
     "metadata": {},
     "output_type": "execute_result"
    }
   ],
   "source": [
    "#Train the Logistic Regression model\n",
    "model = LogisticRegression(multi_class = 'multinomial', solver = 'newton-cg')\n",
    "\n",
    "model.fit(X_train, Y_train)"
   ]
  },
  {
   "cell_type": "code",
   "execution_count": 9,
   "metadata": {},
   "outputs": [],
   "source": [
    "#Predict the Logistic Regression model\n",
    "Y_pred = model.predict(X_test)"
   ]
  },
  {
   "cell_type": "code",
   "execution_count": 10,
   "metadata": {},
   "outputs": [
    {
     "name": "stdout",
     "output_type": "stream",
     "text": [
      "CONFUSION MATRIX FOR LOGISTIC REGRESSION\n",
      "[[ 0  1  1]\n",
      " [ 0 14  3]\n",
      " [ 0  7  0]]\n",
      "\n"
     ]
    }
   ],
   "source": [
    "#Score the Logistic Regression model\n",
    "print('CONFUSION MATRIX FOR LOGISTIC REGRESSION')\n",
    "print(confusion_matrix(Y_test, Y_pred))\n",
    "\n",
    "print()"
   ]
  },
  {
   "cell_type": "code",
   "execution_count": 11,
   "metadata": {},
   "outputs": [
    {
     "name": "stdout",
     "output_type": "stream",
     "text": [
      "CLASSIFICATION REPORT\n",
      "              precision    recall  f1-score   support\n",
      "\n",
      "         1.0       0.00      0.00      0.00         2\n",
      "         2.0       0.64      0.82      0.72        17\n",
      "         3.0       0.00      0.00      0.00         7\n",
      "\n",
      "   micro avg       0.54      0.54      0.54        26\n",
      "   macro avg       0.21      0.27      0.24        26\n",
      "weighted avg       0.42      0.54      0.47        26\n",
      "\n",
      "\n"
     ]
    }
   ],
   "source": [
    "print('CLASSIFICATION REPORT')\n",
    "print(classification_report(Y_test, Y_pred))\n",
    "\n",
    "print()"
   ]
  },
  {
   "cell_type": "code",
   "execution_count": 12,
   "metadata": {},
   "outputs": [
    {
     "name": "stdout",
     "output_type": "stream",
     "text": [
      "ACCURACY SCORE\n",
      "0.5384615384615384\n"
     ]
    }
   ],
   "source": [
    "print('ACCURACY SCORE')\n",
    "print(accuracy_score(Y_test,Y_pred))"
   ]
  },
  {
   "cell_type": "code",
   "execution_count": null,
   "metadata": {},
   "outputs": [],
   "source": []
  }
 ],
 "metadata": {
  "kernelspec": {
   "display_name": "Python 3",
   "language": "python",
   "name": "python3"
  },
  "language_info": {
   "codemirror_mode": {
    "name": "ipython",
    "version": 3
   },
   "file_extension": ".py",
   "mimetype": "text/x-python",
   "name": "python",
   "nbconvert_exporter": "python",
   "pygments_lexer": "ipython3",
   "version": "3.7.3"
  }
 },
 "nbformat": 4,
 "nbformat_minor": 2
}
